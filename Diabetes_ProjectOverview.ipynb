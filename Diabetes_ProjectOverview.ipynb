{
 "cells": [
  {
   "cell_type": "markdown",
   "id": "3da8b84d-bebf-45c8-a22d-d89c1e2c06e5",
   "metadata": {},
   "source": [
    "# Predicting Diabetes Using Machine Learning"
   ]
  },
  {
   "cell_type": "markdown",
   "id": "d0504051-ab83-4ec5-8f9b-0ed10ae820e0",
   "metadata": {},
   "source": [
    "### BUSINESS INTRODUCTION\n",
    "\n",
    "Stark Health Clinic is a leading healthcare provider that leverages technology and modeling to enhance\n",
    "its operations. By integrating machine learning into its systems, the clinic identifies diseases early, improving\n",
    "patient outcomes and resource allocation."
   ]
  },
  {
   "cell_type": "markdown",
   "id": "17252ad1-6efb-463e-b4d1-3f994d5579f9",
   "metadata": {},
   "source": [
    "### Content\n",
    "The datset consists of several medical variables and one target variable, Outcome.Predictor variables includes "
   ]
  },
  {
   "cell_type": "markdown",
   "id": "3c29c3d7-cf69-442f-a211-9e3371dbfac6",
   "metadata": {},
   "source": [
    "### PROBLEM STATEMENT\n",
    "Diabetes poses significant health risks to Stark Health’s patients, and also financial challenges. Current methods for\n",
    "early detection at Stark Health Clinic lacks precision, leading to missed opportunities for timely\n",
    "interventions."
   ]
  },
  {
   "cell_type": "markdown",
   "id": "4150fb26-2d61-42ee-8038-bc45b709e289",
   "metadata": {},
   "source": [
    "### Task\n",
    "is to predict the likelihood of diabetes onset, \n",
    "allowing for timely and targeted preventive measures.\n",
    "\n",
    "1.**Perform Exploratory Data Analysis in Python**:\n",
    "   \n",
    "  a) Visualize relationships between the target and some key features\n",
    "\n",
    "  b) Explore correlations\n",
    "\n",
    "  c) Conduct univariate, bivariate, and multivariate analysis as much as is feasible\n",
    "\n",
    "2.**Perform Feature Engineering**:\n",
    "   \n",
    "  a) Encoding categorical variables\n",
    "\n",
    "  b) Create new features from existing features where necessary, depending on insights from\n",
    "  your EDA\n",
    "\n",
    "3.**Model Selection**, **Training**, and **Validation**:\n",
    "   \n",
    "  a) Train and test at least 3 supervised learning models\n",
    "\n",
    "4.**Model Evaluation**:\n",
    "   \n",
    "  a) Analyze the results of your trained models\n",
    "\n",
    "  b) What metrics are most important for the problem? Should the business be more concerned\n",
    "  with better results on false negatives or true positives?"
   ]
  },
  {
   "cell_type": "code",
   "execution_count": null,
   "id": "a71ce40e-fd7c-45f4-b431-5d971b2ca62e",
   "metadata": {},
   "outputs": [],
   "source": []
  }
 ],
 "metadata": {
  "kernelspec": {
   "display_name": "Python 3 (ipykernel)",
   "language": "python",
   "name": "python3"
  },
  "language_info": {
   "codemirror_mode": {
    "name": "ipython",
    "version": 3
   },
   "file_extension": ".py",
   "mimetype": "text/x-python",
   "name": "python",
   "nbconvert_exporter": "python",
   "pygments_lexer": "ipython3",
   "version": "3.12.4"
  }
 },
 "nbformat": 4,
 "nbformat_minor": 5
}
