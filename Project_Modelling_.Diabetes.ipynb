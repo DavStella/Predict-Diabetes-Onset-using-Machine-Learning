{
 "cells": [
  {
   "cell_type": "code",
   "execution_count": 90,
   "id": "57cd2414-c21c-402d-b076-e4ad5d5bee46",
   "metadata": {},
   "outputs": [],
   "source": [
    "# import libraries\n",
    "\n",
    "import pandas as pd\n",
    "import numpy as np\n",
    "import matplotlib.pyplot as plt\n",
    "import seaborn as sns\n",
    "import os\n",
    "import sklearn"
   ]
  },
  {
   "cell_type": "code",
   "execution_count": 92,
   "id": "509906be-c208-41f6-9313-9367ef626ca3",
   "metadata": {},
   "outputs": [],
   "source": [
    "# load dataset\n",
    "\n",
    "# Define the path to the saved file\n",
    "file_path = os.path.expanduser(\"~/Documents/data/Clean_data.csv\")\n",
    "\n",
    "# Load the cleaned data\n",
    "cleaned_data = pd.read_csv(file_path)"
   ]
  },
  {
   "cell_type": "code",
   "execution_count": 94,
   "id": "2b1b03b6-914d-4534-b129-ea597d34368d",
   "metadata": {},
   "outputs": [
    {
     "data": {
      "text/html": [
       "<div>\n",
       "<style scoped>\n",
       "    .dataframe tbody tr th:only-of-type {\n",
       "        vertical-align: middle;\n",
       "    }\n",
       "\n",
       "    .dataframe tbody tr th {\n",
       "        vertical-align: top;\n",
       "    }\n",
       "\n",
       "    .dataframe thead th {\n",
       "        text-align: right;\n",
       "    }\n",
       "</style>\n",
       "<table border=\"1\" class=\"dataframe\">\n",
       "  <thead>\n",
       "    <tr style=\"text-align: right;\">\n",
       "      <th></th>\n",
       "      <th>gender</th>\n",
       "      <th>age</th>\n",
       "      <th>hypertension</th>\n",
       "      <th>heart_disease</th>\n",
       "      <th>smoking_history</th>\n",
       "      <th>bmi</th>\n",
       "      <th>HbA1c_level</th>\n",
       "      <th>blood_glucose_level</th>\n",
       "      <th>diabetes</th>\n",
       "    </tr>\n",
       "  </thead>\n",
       "  <tbody>\n",
       "    <tr>\n",
       "      <th>0</th>\n",
       "      <td>Female</td>\n",
       "      <td>80.0</td>\n",
       "      <td>0</td>\n",
       "      <td>1</td>\n",
       "      <td>never</td>\n",
       "      <td>25.19</td>\n",
       "      <td>6.6</td>\n",
       "      <td>140</td>\n",
       "      <td>0</td>\n",
       "    </tr>\n",
       "    <tr>\n",
       "      <th>1</th>\n",
       "      <td>Female</td>\n",
       "      <td>54.0</td>\n",
       "      <td>0</td>\n",
       "      <td>0</td>\n",
       "      <td>No Info</td>\n",
       "      <td>27.32</td>\n",
       "      <td>6.6</td>\n",
       "      <td>80</td>\n",
       "      <td>0</td>\n",
       "    </tr>\n",
       "  </tbody>\n",
       "</table>\n",
       "</div>"
      ],
      "text/plain": [
       "   gender   age  hypertension  heart_disease smoking_history    bmi  \\\n",
       "0  Female  80.0             0              1           never  25.19   \n",
       "1  Female  54.0             0              0         No Info  27.32   \n",
       "\n",
       "   HbA1c_level  blood_glucose_level  diabetes  \n",
       "0          6.6                  140         0  \n",
       "1          6.6                   80         0  "
      ]
     },
     "execution_count": 94,
     "metadata": {},
     "output_type": "execute_result"
    }
   ],
   "source": [
    "cleaned_data.head(2)"
   ]
  },
  {
   "cell_type": "code",
   "execution_count": 96,
   "id": "086ede10-c3ee-4333-afea-8749d83272be",
   "metadata": {},
   "outputs": [],
   "source": [
    "# Step 1: Define Features and Target - Separate the features (independent variables) and the target (dependent variable, diabetes).\n",
    "\n",
    "# Define features (X) and target (y)\n",
    "X = cleaned_data.drop(columns=[\"diabetes\"])  # Features\n",
    "y = cleaned_data[\"diabetes\"]  # Target"
   ]
  },
  {
   "cell_type": "code",
   "execution_count": 98,
   "id": "93ea1e2c-04e6-4d33-97f9-7c3400ca0f8b",
   "metadata": {},
   "outputs": [
    {
     "name": "stdout",
     "output_type": "stream",
     "text": [
      "    age  hypertension  heart_disease    bmi  HbA1c_level  blood_glucose_level  \\\n",
      "0  80.0             0              1  25.19          6.6                  140   \n",
      "1  54.0             0              0  27.32          6.6                   80   \n",
      "2  28.0             0              0  27.32          5.7                  158   \n",
      "3  36.0             0              0  23.45          5.0                  155   \n",
      "4  76.0             1              1  20.14          4.8                  155   \n",
      "\n",
      "   gender_Male  smoking_history_current  smoking_history_never  \\\n",
      "0        False                    False                   True   \n",
      "1        False                    False                  False   \n",
      "2         True                    False                   True   \n",
      "3        False                     True                  False   \n",
      "4         True                     True                  False   \n",
      "\n",
      "   smoking_history_past_smoker  \n",
      "0                        False  \n",
      "1                        False  \n",
      "2                        False  \n",
      "3                        False  \n",
      "4                        False  \n"
     ]
    }
   ],
   "source": [
    "#Step 2: Encode Categorical Variables - Encode categorical variables (gender and smoking_history) using one-hot encoding.\n",
    "\n",
    "# Perform one-hot encoding on categorical columns\n",
    "X = pd.get_dummies(X, columns=[\"gender\", \"smoking_history\"], drop_first=True)\n",
    "\n",
    "# Check the encoded data\n",
    "print(X.head())"
   ]
  },
  {
   "cell_type": "code",
   "execution_count": 100,
   "id": "ec5725c9-42b5-4c4c-a74a-4c529a867cb5",
   "metadata": {},
   "outputs": [
    {
     "name": "stdout",
     "output_type": "stream",
     "text": [
      "Training set shape: (76916, 10) (76916,)\n",
      "Testing set shape: (19230, 10) (19230,)\n"
     ]
    }
   ],
   "source": [
    "# Step 3: Split the Data into Training and Testing Sets - Split the data into training and testing sets to evaluate the model’s performance.\n",
    "\n",
    "from sklearn.model_selection import train_test_split\n",
    "\n",
    "# Split the data (80% training, 20% testing)\n",
    "X_train, X_test, y_train, y_test = train_test_split(X, y, test_size=0.2, random_state=42)\n",
    "\n",
    "# Check the shapes of the splits\n",
    "print(\"Training set shape:\", X_train.shape, y_train.shape)\n",
    "print(\"Testing set shape:\", X_test.shape, y_test.shape)"
   ]
  },
  {
   "cell_type": "code",
   "execution_count": 102,
   "id": "ae551c04-67bd-42a7-a38b-3df65ec40718",
   "metadata": {},
   "outputs": [
    {
     "name": "stdout",
     "output_type": "stream",
     "text": [
      "Normalized X_train:\n",
      "             age  hypertension  heart_disease       bmi  HbA1c_level  \\\n",
      "45703  0.436937           0.0            0.0  0.251167     0.563636   \n",
      "31187  0.004004           0.0            0.0  0.060458     0.090909   \n",
      "92558  0.749750           0.0            0.0  0.127101     0.545455   \n",
      "92138  0.824825           0.0            0.0  0.198880     0.454545   \n",
      "37029  0.599600           0.0            0.0  0.163866     0.236364   \n",
      "\n",
      "       blood_glucose_level  gender_Male  smoking_history_current  \\\n",
      "45703             0.340909          0.0                      0.0   \n",
      "31187             0.227273          0.0                      0.0   \n",
      "92558             0.090909          0.0                      0.0   \n",
      "92138             0.227273          1.0                      0.0   \n",
      "37029             0.295455          1.0                      0.0   \n",
      "\n",
      "       smoking_history_never  smoking_history_past_smoker  \n",
      "45703                    0.0                          0.0  \n",
      "31187                    0.0                          0.0  \n",
      "92558                    0.0                          1.0  \n",
      "92138                    1.0                          0.0  \n",
      "37029                    0.0                          1.0  \n",
      "\n",
      "Normalized X_test:\n",
      "             age  hypertension  heart_disease       bmi  HbA1c_level  \\\n",
      "2547   0.061562           0.0            0.0  0.059874     0.181818   \n",
      "34242  0.236737           0.0            0.0  0.148576     0.563636   \n",
      "69022  0.649650           0.0            0.0  0.166433     0.727273   \n",
      "49536  0.687187           0.0            0.0  0.202031     0.400000   \n",
      "78171  0.274274           0.0            0.0  0.219071     0.181818   \n",
      "\n",
      "       blood_glucose_level  gender_Male  smoking_history_current  \\\n",
      "2547              0.045455          0.0                      0.0   \n",
      "34242             0.022727          1.0                      0.0   \n",
      "69022             0.636364          0.0                      0.0   \n",
      "49536             0.022727          1.0                      0.0   \n",
      "78171             0.545455          0.0                      0.0   \n",
      "\n",
      "       smoking_history_never  smoking_history_past_smoker  \n",
      "2547                     0.0                          0.0  \n",
      "34242                    1.0                          0.0  \n",
      "69022                    1.0                          0.0  \n",
      "49536                    0.0                          0.0  \n",
      "78171                    1.0                          0.0  \n"
     ]
    }
   ],
   "source": [
    "# Step 4: Normalize Numerical Features - Normalize the numerical features using MinMaxScaler to ensure all features are on the same scale.\n",
    "\n",
    "from sklearn.preprocessing import MinMaxScaler\n",
    "\n",
    "# Initialize the scaler\n",
    "scaler = MinMaxScaler()\n",
    "\n",
    "# Normalize numerical columns in X_train and X_test\n",
    "X_train[X_train.columns] = scaler.fit_transform(X_train)\n",
    "X_test[X_test.columns] = scaler.transform(X_test)\n",
    "\n",
    "# Check the normalized data\n",
    "print(\"Normalized X_train:\\n\", X_train.head())\n",
    "print(\"\\nNormalized X_test:\\n\", X_test.head())"
   ]
  },
  {
   "cell_type": "markdown",
   "id": "c320413f-406c-46ff-b3c2-549e7fd34432",
   "metadata": {},
   "source": [
    "#### Observation\n",
    "All values are between 0 and 1 – This confirms that MinMaxScaler scaled the data correctly."
   ]
  },
  {
   "cell_type": "code",
   "execution_count": 45,
   "id": "7a5ee879-bd54-4143-a8d9-0f42fba5bbeb",
   "metadata": {},
   "outputs": [
    {
     "name": "stdout",
     "output_type": "stream",
     "text": [
      "gender                  object\n",
      "age                    float64\n",
      "hypertension             int64\n",
      "heart_disease            int64\n",
      "smoking_history         object\n",
      "bmi                    float64\n",
      "HbA1c_level            float64\n",
      "blood_glucose_level      int64\n",
      "diabetes                 int64\n",
      "dtype: object\n"
     ]
    }
   ],
   "source": [
    "print(cleaned_data.dtypes)\n"
   ]
  },
  {
   "cell_type": "markdown",
   "id": "6190b9f1-bd21-45e7-8d97-122182e5c89d",
   "metadata": {},
   "source": [
    "### Choosing a Model \n",
    "\n",
    "- Since your task is diabetes prediction (binary classification: 0 or 1), here are some model options:\n",
    "\n",
    "1️⃣ Logistic Regression (Simple, interpretable)\n",
    "2️⃣ Random Forest (Handles non-linearity well, robust)\n",
    "3️⃣ XGBoost (Powerful, often best for structured data)\n"
   ]
  },
  {
   "cell_type": "code",
   "execution_count": 51,
   "id": "8253f4be-230b-4f25-9723-c8acaf9662fa",
   "metadata": {},
   "outputs": [],
   "source": [
    "from sklearn.model_selection import train_test_split, GridSearchCV\n",
    "from sklearn.linear_model import LogisticRegression\n",
    "from sklearn.tree import DecisionTreeClassifier\n",
    "from sklearn.ensemble import RandomForestClassifier\n",
    "from xgboost import XGBClassifier\n",
    "\n",
    "# metrics\n",
    "from sklearn.metrics import accuracy_score, precision_score, recall_score, f1_score, make_scorer"
   ]
  },
  {
   "cell_type": "code",
   "execution_count": 67,
   "id": "c17ee67b-8d5a-439e-aacb-db9b44a9a1a2",
   "metadata": {},
   "outputs": [
    {
     "name": "stdout",
     "output_type": "stream",
     "text": [
      "Results for Logistic Regression:\n",
      "Results from Train: Accuracy: 0.9588 Precision: 0.8703 Recall: 0.6267 F1 Score: 0.7287\n",
      "Results from Test: Accuracy: 0.9594 Precision: 0.8724 Recall: 0.6327 F1 Score: 0.7334\n",
      "\n",
      "Results for Decision Tree:\n",
      "Results from Train: Accuracy: 0.9991 Precision: 1.0000 Recall: 0.9892 F1 Score: 0.9946\n",
      "Results from Test: Accuracy: 0.9486 Precision: 0.6956 Recall: 0.7412 F1 Score: 0.7177\n",
      "\n",
      "Results for Random Forest:\n",
      "Results from Train: Accuracy: 0.9990 Precision: 0.9990 Recall: 0.9901 F1 Score: 0.9945\n",
      "Results from Test: Accuracy: 0.9697 Precision: 0.9470 Recall: 0.6958 F1 Score: 0.8022\n",
      "\n"
     ]
    },
    {
     "name": "stderr",
     "output_type": "stream",
     "text": [
      "C:\\Users\\ibora\\anaconda3\\Lib\\site-packages\\xgboost\\core.py:158: UserWarning: [12:27:50] WARNING: C:\\buildkite-agent\\builds\\buildkite-windows-cpu-autoscaling-group-i-08cbc0333d8d4aae1-1\\xgboost\\xgboost-ci-windows\\src\\learner.cc:740: \n",
      "Parameters: { \"use_label_encoder\" } are not used.\n",
      "\n",
      "  warnings.warn(smsg, UserWarning)\n"
     ]
    },
    {
     "name": "stdout",
     "output_type": "stream",
     "text": [
      "Results for XGBoost:\n",
      "Results from Train: Accuracy: 0.9756 Precision: 0.9908 Recall: 0.7302 F1 Score: 0.8408\n",
      "Results from Test: Accuracy: 0.9698 Precision: 0.9478 Recall: 0.6963 F1 Score: 0.8029\n",
      "\n"
     ]
    }
   ],
   "source": [
    "import os\n",
    "import pandas as pd\n",
    "from sklearn.model_selection import train_test_split\n",
    "from sklearn.preprocessing import OneHotEncoder, MinMaxScaler\n",
    "from sklearn.linear_model import LogisticRegression\n",
    "from sklearn.tree import DecisionTreeClassifier\n",
    "from sklearn.ensemble import RandomForestClassifier\n",
    "from xgboost import XGBClassifier\n",
    "from sklearn.metrics import accuracy_score, precision_score, recall_score, f1_score\n",
    "\n",
    "# Load the cleaned data\n",
    "file_path = os.path.expanduser(\"~/Documents/data/Clean_data.csv\")\n",
    "cleaned_data = pd.read_csv(file_path)\n",
    "\n",
    "# Define features (X) and target (y)\n",
    "X = cleaned_data.drop(columns=['diabetes'])\n",
    "y = cleaned_data['diabetes']\n",
    "\n",
    "# Split into training and testing sets\n",
    "X_train, X_test, y_train, y_test = train_test_split(X, y, test_size=0.2, random_state=42, stratify=y)\n",
    "\n",
    "# Encode Categorical Variables\n",
    "encoder = OneHotEncoder(drop='first', sparse_output=False)\n",
    "X_train_encoded = encoder.fit_transform(X_train[['gender', 'smoking_history']])\n",
    "X_test_encoded = encoder.transform(X_test[['gender', 'smoking_history']])\n",
    "\n",
    "# Combine the original encoded features with the numerical features\n",
    "X_train_combined = pd.concat([X_train.drop(columns=['gender', 'smoking_history']).reset_index(drop=True), pd.DataFrame(X_train_encoded)], axis=1)\n",
    "X_test_combined = pd.concat([X_test.drop(columns=['gender', 'smoking_history']).reset_index(drop=True), pd.DataFrame(X_test_encoded)], axis=1)\n",
    "\n",
    "# Ensure all feature names are strings\n",
    "X_train_combined.columns = X_train_combined.columns.astype(str)\n",
    "X_test_combined.columns = X_test_combined.columns.astype(str)\n",
    "\n",
    "# Scale the features\n",
    "scaler = MinMaxScaler()\n",
    "X_train_scaled = scaler.fit_transform(X_train_combined)\n",
    "X_test_scaled = scaler.transform(X_test_combined)\n",
    "\n",
    "# Define classifiers\n",
    "classifiers = {\n",
    "    'Logistic Regression': LogisticRegression(),\n",
    "    'Decision Tree': DecisionTreeClassifier(),\n",
    "    'Random Forest': RandomForestClassifier(),\n",
    "    'XGBoost': XGBClassifier(use_label_encoder=False, eval_metric='logloss')\n",
    "}\n",
    "\n",
    "# Function to evaluate models\n",
    "def evaluate_model(name, model):\n",
    "    model.fit(X_train_scaled, y_train)\n",
    "    y_pred_train = model.predict(X_train_scaled)\n",
    "    y_pred_test = model.predict(X_test_scaled)\n",
    "    \n",
    "    print(f\"Results for {name}:\")\n",
    "    print(f\"Results from Train: Accuracy: {accuracy_score(y_train, y_pred_train):.4f} Precision: {precision_score(y_train, y_pred_train):.4f} Recall: {recall_score(y_train, y_pred_train):.4f} F1 Score: {f1_score(y_train, y_pred_train):.4f}\")\n",
    "    print(f\"Results from Test: Accuracy: {accuracy_score(y_test, y_pred_test):.4f} Precision: {precision_score(y_test, y_pred_test):.4f} Recall: {recall_score(y_test, y_pred_test):.4f} F1 Score: {f1_score(y_test, y_pred_test):.4f}\")\n",
    "    print()\n",
    "\n",
    "# Evaluate all classifiers\n",
    "for name, clf in classifiers.items():\n",
    "    evaluate_model(name, clf)\n"
   ]
  },
  {
   "cell_type": "code",
   "execution_count": 69,
   "id": "0488499a-2101-4a8a-a245-e51f184b1b12",
   "metadata": {},
   "outputs": [
    {
     "name": "stderr",
     "output_type": "stream",
     "text": [
      "C:\\Users\\ibora\\anaconda3\\Lib\\site-packages\\xgboost\\core.py:158: UserWarning: [12:34:42] WARNING: C:\\buildkite-agent\\builds\\buildkite-windows-cpu-autoscaling-group-i-08cbc0333d8d4aae1-1\\xgboost\\xgboost-ci-windows\\src\\learner.cc:740: \n",
      "Parameters: { \"use_label_encoder\" } are not used.\n",
      "\n",
      "  warnings.warn(smsg, UserWarning)\n"
     ]
    },
    {
     "name": "stdout",
     "output_type": "stream",
     "text": [
      "                 Model  Train Accuracy  Test Accuracy  Precision    Recall  \\\n",
      "0  Logistic Regression        0.958825       0.959438   0.872358  0.632665   \n",
      "1        Decision Tree        0.999051       0.949402   0.700055  0.745873   \n",
      "2        Random Forest        0.998999       0.969215   0.944444  0.691627   \n",
      "3              XGBoost        0.975597       0.969839   0.947833  0.696344   \n",
      "\n",
      "   F1 Score  \n",
      "0  0.733424  \n",
      "1  0.722238  \n",
      "2  0.798502  \n",
      "3  0.802855  \n"
     ]
    }
   ],
   "source": [
    "import pandas as pd\n",
    "\n",
    "# Initialize an empty list to store the results\n",
    "results = []\n",
    "\n",
    "# Function to evaluate models and store results\n",
    "def evaluate_model(name, model):\n",
    "    model.fit(X_train_scaled, y_train)\n",
    "    y_pred_train = model.predict(X_train_scaled)\n",
    "    y_pred_test = model.predict(X_test_scaled)\n",
    "    \n",
    "    result = {\n",
    "        'Model': name,\n",
    "        'Train Accuracy': accuracy_score(y_train, y_pred_train),\n",
    "        'Test Accuracy': accuracy_score(y_test, y_pred_test),\n",
    "        'Precision': precision_score(y_test, y_pred_test),\n",
    "        'Recall': recall_score(y_test, y_pred_test),\n",
    "        'F1 Score': f1_score(y_test, y_pred_test)\n",
    "    }\n",
    "    results.append(result)\n",
    "\n",
    "# Evaluate all classifiers\n",
    "for name, clf in classifiers.items():\n",
    "    evaluate_model(name, clf)\n",
    "\n",
    "# Convert results to a DataFrame\n",
    "results_df = pd.DataFrame(results)\n",
    "\n",
    "# Display the results in tabular form\n",
    "print(results_df)\n"
   ]
  },
  {
   "cell_type": "markdown",
   "id": "a41b0740-a86d-48a3-aed8-2ff92c77c0cb",
   "metadata": {},
   "source": [
    "#### Observation\n",
    "From the evaluation results, we observe that both **XGBoost** and **Random Forest** models exhibit strong performance, with **XGBoost** slightly leading in terms of F1 Score, Precision, and Recall. Although the **Decision Tree** model performs exceptionally well on the training set, it tends to overfit, as indicated by a drop in performance on the test set. **Logistic Regression** provides a good balance between precision and recall but does not outperform the ensemble methods. Therefore, **XGBoost** stands out as the best model for this dataset."
   ]
  },
  {
   "cell_type": "markdown",
   "id": "46e2afb3-d6ef-4ae5-9468-07426ec14ae7",
   "metadata": {},
   "source": [
    "#### Insights/Observations:\n",
    "For the task of predicting the likelihood of diabetes onset, prioritizing **Recall** is crucial. **High** recall ensures that most at-risk individuals are identified, allowing for timely and targeted preventive measures. This minimizes the risk of false negatives, where individuals who may develop diabetes are missed, potentially leading to severe health outcomes. Balancing recall with **Precision** helps reduce false positives, avoiding unnecessary medical interventions for those not at risk."
   ]
  },
  {
   "cell_type": "code",
   "execution_count": 79,
   "id": "2793e16b-9bc5-497a-ada7-d5be16e2a135",
   "metadata": {},
   "outputs": [
    {
     "name": "stderr",
     "output_type": "stream",
     "text": [
      "C:\\Users\\ibora\\anaconda3\\Lib\\site-packages\\xgboost\\core.py:158: UserWarning: [13:17:41] WARNING: C:\\buildkite-agent\\builds\\buildkite-windows-cpu-autoscaling-group-i-08cbc0333d8d4aae1-1\\xgboost\\xgboost-ci-windows\\src\\learner.cc:740: \n",
      "Parameters: { \"use_label_encoder\" } are not used.\n",
      "\n",
      "  warnings.warn(smsg, UserWarning)\n"
     ]
    },
    {
     "data": {
      "image/png": "[encoded data removed]",
      "text/plain": [
       "<Figure size 1200x800 with 1 Axes>"
      ]
     },
     "metadata": {},
     "output_type": "display_data"
    }
   ],
   "source": [
    "# Fit the model with the best parameters (if tuning has been done) or the default model\n",
    "best_model = XGBClassifier(use_label_encoder=False, eval_metric='logloss')\n",
    "best_model.fit(X_train_scaled, y_train)\n",
    "\n",
    "# Extract feature importances\n",
    "importances = best_model.feature_importances_\n",
    "feature_names = X_train_combined.columns\n",
    "\n",
    "# Create a DataFrame for the feature importances\n",
    "importance_df = pd.DataFrame({'Feature': feature_names, 'Importance': importances})\n",
    "\n",
    "# Sort the DataFrame by importance\n",
    "importance_df = importance_df.sort_values(by='Importance', ascending=False)\n",
    "\n",
    "# Plot the feature importances\n",
    "plt.figure(figsize=(12, 8))\n",
    "sns.barplot(x='Importance', y='Feature', data=importance_df)\n",
    "plt.title('Feature Importance')\n",
    "plt.xlabel('Importance')\n",
    "plt.ylabel('Feature')\n",
    "plt.show()\n"
   ]
  },
  {
   "cell_type": "code",
   "execution_count": 82,
   "id": "9e2bdcd2-119a-4fa2-84e6-97160672367a",
   "metadata": {},
   "outputs": [
    {
     "data": {
      "text/html": [
       "<div>\n",
       "<style scoped>\n",
       "    .dataframe tbody tr th:only-of-type {\n",
       "        vertical-align: middle;\n",
       "    }\n",
       "\n",
       "    .dataframe tbody tr th {\n",
       "        vertical-align: top;\n",
       "    }\n",
       "\n",
       "    .dataframe thead th {\n",
       "        text-align: right;\n",
       "    }\n",
       "</style>\n",
       "<table border=\"1\" class=\"dataframe\">\n",
       "  <thead>\n",
       "    <tr style=\"text-align: right;\">\n",
       "      <th></th>\n",
       "      <th>Feature</th>\n",
       "      <th>Importance</th>\n",
       "    </tr>\n",
       "  </thead>\n",
       "  <tbody>\n",
       "    <tr>\n",
       "      <th>4</th>\n",
       "      <td>HbA1c_level</td>\n",
       "      <td>0.528907</td>\n",
       "    </tr>\n",
       "    <tr>\n",
       "      <th>5</th>\n",
       "      <td>blood_glucose_level</td>\n",
       "      <td>0.282803</td>\n",
       "    </tr>\n",
       "    <tr>\n",
       "      <th>2</th>\n",
       "      <td>heart_disease</td>\n",
       "      <td>0.039457</td>\n",
       "    </tr>\n",
       "    <tr>\n",
       "      <th>1</th>\n",
       "      <td>hypertension</td>\n",
       "      <td>0.038872</td>\n",
       "    </tr>\n",
       "    <tr>\n",
       "      <th>0</th>\n",
       "      <td>age</td>\n",
       "      <td>0.032854</td>\n",
       "    </tr>\n",
       "    <tr>\n",
       "      <th>3</th>\n",
       "      <td>bmi</td>\n",
       "      <td>0.019731</td>\n",
       "    </tr>\n",
       "    <tr>\n",
       "      <th>7</th>\n",
       "      <td>1</td>\n",
       "      <td>0.019044</td>\n",
       "    </tr>\n",
       "    <tr>\n",
       "      <th>6</th>\n",
       "      <td>0</td>\n",
       "      <td>0.013837</td>\n",
       "    </tr>\n",
       "    <tr>\n",
       "      <th>9</th>\n",
       "      <td>3</td>\n",
       "      <td>0.013004</td>\n",
       "    </tr>\n",
       "    <tr>\n",
       "      <th>8</th>\n",
       "      <td>2</td>\n",
       "      <td>0.011492</td>\n",
       "    </tr>\n",
       "  </tbody>\n",
       "</table>\n",
       "</div>"
      ],
      "text/plain": [
       "               Feature  Importance\n",
       "4          HbA1c_level    0.528907\n",
       "5  blood_glucose_level    0.282803\n",
       "2        heart_disease    0.039457\n",
       "1         hypertension    0.038872\n",
       "0                  age    0.032854\n",
       "3                  bmi    0.019731\n",
       "7                    1    0.019044\n",
       "6                    0    0.013837\n",
       "9                    3    0.013004\n",
       "8                    2    0.011492"
      ]
     },
     "execution_count": 82,
     "metadata": {},
     "output_type": "execute_result"
    }
   ],
   "source": [
    "importance_df = importance_df.sort_values(by='Importance', ascending=False)\n",
    "importance_df \n"
   ]
  },
  {
   "cell_type": "markdown",
   "id": "26a620b3-eb25-4e48-be87-06ac0d6888fa",
   "metadata": {},
   "source": [
    "#### Observation\n",
    "From this table, we can see that **HbA1c_level** and **blood_glucose_level** are the most important features for predicting the likelihood of diabetes onset. These features should be a primary focus for targeted preventive measures."
   ]
  },
  {
   "cell_type": "markdown",
   "id": "5685e235-75b8-43b1-9dba-7fa62f850532",
   "metadata": {},
   "source": [
    "## Final Conclusion:\n",
    "The **XGBoost** model emerged as the best-performing model for predicting the likelihood of diabetes onset, with **high precision**, **recall**, and **F1 score**. Key features identified include **HbA1c_level** and **blood_glucose_level**, which are crucial for targeted preventive measures. **Prioritizing recall** ensures most at-risk individuals are identified, enabling timely interventions, while balancing with precision minimizes unnecessary interventions."
   ]
  },
  {
   "cell_type": "code",
   "execution_count": null,
   "id": "d4549ea0-82b5-406b-8cde-2519511ff2aa",
   "metadata": {},
   "outputs": [],
   "source": []
  }
 ],
 "metadata": {
  "kernelspec": {
   "display_name": "Python 3 (ipykernel)",
   "language": "python",
   "name": "python3"
  },
  "language_info": {
   "codemirror_mode": {
    "name": "ipython",
    "version": 3
   },
   "file_extension": ".py",
   "mimetype": "text/x-python",
   "name": "python",
   "nbconvert_exporter": "python",
   "pygments_lexer": "ipython3",
   "version": "3.12.4"
  }
 },
 "nbformat": 4,
 "nbformat_minor": 5
}
